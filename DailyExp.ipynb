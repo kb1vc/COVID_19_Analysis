{
 "cells": [
  {
   "cell_type": "markdown",
   "metadata": {},
   "source": [
    "### COVID-19 Statistics Notebook\n",
    "\n",
    "Some simple examples of pandas and jupyter notebook applied to the JHU COVID-19 online reports. "
   ]
  },
  {
   "cell_type": "code",
   "execution_count": null,
   "metadata": {},
   "outputs": [],
   "source": [
    "import pandas as pd\n",
    "import numpy as np\n",
    "import matplotlib.pyplot as plt\n",
    "import datetime as dtim"
   ]
  },
  {
   "cell_type": "code",
   "execution_count": null,
   "metadata": {},
   "outputs": [],
   "source": [
    "database_url = \"https://raw.github.com/CSSEGISandData/COVID-19/master/csse_covid_19_data\"\n",
    "\n",
    "def fetchDatabase(report_name, remove_cols = {\"FIPS\", \"Lat\", \"Long_\", \"UID\", \"ISO3\"}):\n",
    "    # Find yesterday's date.  The CSSE database is updated daily\n",
    "    yesterday = dtim.datetime.now() - dtim.timedelta(days=1)\n",
    "    mmddyyyy = \"%02d-%02d-%4d\" % (yesterday.month, yesterday.day, yesterday.year)\n",
    "    \n",
    "    # build the report filename\n",
    "    report_url = \"%s/csse_covid_19_%s/%s.csv\" % (database_url, report_name, mmddyyyy)\n",
    "    rep = pd.read_csv(report_url)\n",
    "    # drop a few of the less useful columns\n",
    "    orig_cols = set(list(rep))\n",
    "    # make sure we don't try to remove a column that doesn't exist\n",
    "    actual_remove_cols = list(orig_cols.intersection(remove_cols))\n",
    "    return rep.drop(columns = actual_remove_cols)"
   ]
  },
  {
   "cell_type": "markdown",
   "metadata": {},
   "source": [
    "From the README.md file at [JHU COVID-19 Dataset](https://raw.github.com/CSSEGISandData/COVID-19)\n",
    "\n",
    "# JHU CSSE COVID-19 Dataset\n",
    "\n",
    "## Table of contents\n",
    "\n",
    " * [Daily reports (csse_covid_19_daily_reports)](#daily-reports-csse_covid_19_daily_reports)\n",
    " * [USA daily state reports (csse_covid_19_daily_reports_us)](#usa-daily-state-reports-csse_covid_19_daily_reports_us)\n",
    " * [Time series summary (csse_covid_19_time_series)](#time-series-summary-csse_covid_19_time_series)\n",
    " * [Data modification records](#data-modification-records)\n",
    " * [UID Lookup Table Logic](#uid-lookup-table-logic)\n",
    "---\n",
    "\n",
    "## [Daily reports (csse_covid_19_daily_reports)](https://github.com/CSSEGISandData/COVID-19/tree/master/csse_covid_19_data/csse_covid_19_daily_reports)\n",
    "\n",
    "This folder contains daily case reports. All timestamps are in UTC (GMT+0).\n",
    "\n",
    "### File naming convention\n",
    "MM-DD-YYYY.csv in UTC.\n",
    "\n",
    "### Field description\n",
    "* <b>FIPS</b>: US only. Federal Information Processing Standards code that uniquely identifies counties within the USA.\n",
    "* <b>Admin2</b>: County name. US only.\n",
    "* <b>Province_State</b>: Province, state or dependency name.\n",
    "* <b>Country_Region</b>: Country, region or sovereignty name. The names of locations included on the Website correspond with the official designations used by the U.S. Department of State.\n",
    "* <b>Last Update</b>: MM/DD/YYYY HH:mm:ss  (24 hour format, in UTC).\n",
    "* <b>Lat</b> and <b>Long_</b>: Dot locations on the dashboard. All points (except for Australia) shown on the map are based on geographic centroids, and are not representative of a specific address, building or any location at a spatial scale finer than a province/state. Australian dots are located at the centroid of the largest city in each state.\n",
    "* <b>Confirmed</b>: Confirmed cases include presumptive positive cases  and probable cases, in accordance with CDC guidelines as of April 14.\n",
    "* <b>Deaths</b>: Death totals in the US include confirmed and probable, in accordance with [CDC](https://www.cdc.gov/coronavirus/2019-ncov/cases-updates/cases-in-us.html) guidelines as of April 14.\n",
    "* <b>Recovered</b>: Recovered cases outside China are estimates based on local media reports, and state and local reporting when available, and therefore may be substantially lower than the true number. US state-level recovered cases are from [COVID Tracking Project](https://covidtracking.com/).\n",
    "* <b>Active:</b> Active cases = total confirmed - total recovered - total deaths.\n",
    "* <b>Incidence_Rate</b>: Admin2 + Province_State + Country_Region.\n",
    "* <b>Case-Fatality Ratio (%)</b>: = confirmed cases per 100,000 persons.\n",
    "* <b>US Testing Rate</b>: = total test results per 100,000 persons. The \"total test results\" is equal to \"Total test results (Positive + Negative)\" from [COVID Tracking Project](https://covidtracking.com/).\n",
    "* <b>US Hospitalization Rate (%)</b>: = Total number hospitalized / Number confirmed cases. The \"Total number hospitalized\" is the \"Hospitalized – Cumulative\" count from [COVID Tracking Project](https://covidtracking.com/). The \"hospitalization rate\" and \"hospitalized - Cumulative\" data is only presented for those states which provide cumulative hospital data.\n",
    "\n",
    "### Update frequency\n",
    "* Files on and after April 23, once per day between 03:30 and 04:00 UTC.\n",
    "* Files from February 2 to April 22: once per day around 23:59 UTC.\n",
    "* Files on and before February 1: the last updated files before 23:59 UTC. Sources: [archived_data](https://github.com/CSSEGISandData/COVID-19/tree/master/archived_data) and dashboard.\n",
    "\n",
    "### Data sources\n",
    "Refer to the [mainpage](https://github.com/CSSEGISandData/COVID-19).\n",
    "\n",
    "\n"
   ]
  },
  {
   "cell_type": "code",
   "execution_count": null,
   "metadata": {},
   "outputs": [],
   "source": [
    "# Read the US daily report.  \n",
    "# Choices are daily_reports (worldwide), daily_reports_us (US only)\n",
    "daily_rep_us = fetchDatabase(\"daily_reports_us\")\n",
    "daily_rep_us.head(3)"
   ]
  },
  {
   "cell_type": "code",
   "execution_count": null,
   "metadata": {},
   "outputs": [],
   "source": [
    "daily_rep_us.loc[daily_rep_us[\"Province_State\"] == \"Maryland\"]"
   ]
  },
  {
   "cell_type": "code",
   "execution_count": null,
   "metadata": {},
   "outputs": [],
   "source": [
    "# An outcome here is defined as either a reported death or reported recovery\n",
    "daily_rep_us[\"Deaths_vs_Outcomes\"] = np.divide(daily_rep_us[\"Deaths\"], np.add(daily_rep_us[\"Deaths\"], daily_rep_us[\"Recovered\"]))"
   ]
  },
  {
   "cell_type": "code",
   "execution_count": null,
   "metadata": {},
   "outputs": [],
   "source": [
    "# now sort by the probability of death vs. outcome\n",
    "daily_rep_us.sort_values(by=\"Deaths_vs_Outcomes\", ascending=False, inplace=True)"
   ]
  },
  {
   "cell_type": "code",
   "execution_count": null,
   "metadata": {},
   "outputs": [],
   "source": [
    "# Note that in Nevada, there are more death outcomes than recovered outcomes.\n",
    "daily_rep_us.head(5)"
   ]
  },
  {
   "cell_type": "markdown",
   "metadata": {},
   "source": [
    "# Geographic Presentation\n",
    "\n",
    "Beyond this point you'll need to have installed \"GeoPlot\" and \"GeoPandas.\"\n",
    "\n",
    "I did it this way on my Fedora linux box at home: \n",
    "\n",
    "```\n",
    "sudo dnf install python3-geoplot python3-geopandas \n",
    "```\n",
    "\n",
    "You might also use pip3. \n",
    "\n",
    "In any case, if you don't have these packages installed, the remaining code will say ugly things and refuse to run.  \n"
   ]
  },
  {
   "cell_type": "code",
   "execution_count": null,
   "metadata": {},
   "outputs": [],
   "source": []
  }
 ],
 "metadata": {
  "kernelspec": {
   "display_name": "Python 3",
   "language": "python",
   "name": "python3"
  },
  "language_info": {
   "codemirror_mode": {
    "name": "ipython",
    "version": 3
   },
   "file_extension": ".py",
   "mimetype": "text/x-python",
   "name": "python",
   "nbconvert_exporter": "python",
   "pygments_lexer": "ipython3",
   "version": "3.7.6"
  }
 },
 "nbformat": 4,
 "nbformat_minor": 2
}
