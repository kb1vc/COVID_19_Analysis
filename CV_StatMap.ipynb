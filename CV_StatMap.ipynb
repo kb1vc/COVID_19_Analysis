{
 "cells": [
  {
   "cell_type": "markdown",
   "metadata": {},
   "source": [
    "### Mapping Data\n",
    "\n",
    "The \"basemap\" library provides a not-so-simple facility for geospatial presentations. \n",
    "(Installing it is a bit of a chore, and did not go smoothly for me.  I don't have a recipe, other than \"Ingredients: 1 wall, 1 head -- Bang head against wall until tender.\")\n",
    "\n",
    "The code here data selected from a dataframe onto a map of the US.  (So it assumes that we are looking at the US database.)  "
   ]
  },
  {
   "cell_type": "code",
   "execution_count": null,
   "metadata": {},
   "outputs": [],
   "source": [
    "import pandas as pd\n",
    "import numpy as np\n",
    "import matplotlib.pyplot as plt\n",
    "import datetime as dtim\n",
    "from mpl_toolkits.basemap import Basemap\n",
    "%matplotlib inline"
   ]
  },
  {
   "cell_type": "markdown",
   "metadata": {},
   "source": [
    "The next two cells are copied from \"DailyExp.\"  This isn't terribly good software practices, but the intent here is to be self-contained and to show all the steps of the process.  You have to break a few eggs to make an omelette. "
   ]
  },
  {
   "cell_type": "code",
   "execution_count": null,
   "metadata": {},
   "outputs": [],
   "source": [
    "database_url = \"https://raw.github.com/CSSEGISandData/COVID-19/master/csse_covid_19_data\""
   ]
  },
  {
   "cell_type": "code",
   "execution_count": null,
   "metadata": {},
   "outputs": [],
   "source": [
    "def fetchDatabase(report_name, remove_cols = {\"FIPS\", \"Lat\", \"Long_\", \"UID\", \"ISO3\"}):\n",
    "    # Find yesterday's date.  The CSSE database is updated daily\n",
    "    yesterday = dtim.datetime.now() - dtim.timedelta(days=1)\n",
    "    mmddyyyy = \"%02d-%02d-%4d\" % (yesterday.month, yesterday.day, yesterday.year)\n",
    "    \n",
    "    # build the report filename\n",
    "    report_url = \"%s/csse_covid_19_%s/%s.csv\" % (database_url, report_name, mmddyyyy)\n",
    "    rep = pd.read_csv(report_url)\n",
    "    # drop a few of the less useful columns\n",
    "    orig_cols = set(list(rep))\n",
    "    # make sure we don't try to remove a column that doesn't exist\n",
    "    actual_remove_cols = list(orig_cols.intersection(remove_cols))\n",
    "    return rep.drop(columns = actual_remove_cols)"
   ]
  },
  {
   "cell_type": "code",
   "execution_count": null,
   "metadata": {},
   "outputs": [],
   "source": [
    "def doMapPlot(database, column_name):\n",
    "    fig = plt.figure(figsize=(15,15))\n",
    "    plt.title(column_name, fontsize=16)\n",
    "    map2 = Basemap(resolution='l',llcrnrlon=-119,llcrnrlat=22,urcrnrlon=-64,urcrnrlat=49, projection='lcc', lat_1=32, lat_2=45, lon_0=-95)\n",
    "    map2.drawstates()\n",
    "    map2.drawcountries(linewidth=1.5, color='black')\n",
    "    map2.drawcoastlines(linewidth=1.5, color='black')\n",
    "    lats,lons = (np.array(database[\"Lat\"]), np.array(database[\"Long_\"]))\n",
    "    stat = database[column_name]\n",
    "    scale = 400 / np.max(stat)\n",
    "\n",
    "    map2.scatter(lons, lats, s = scale * stat, latlon=True, marker='D', color='m', zorder=0)\n",
    "    plt.show()\n",
    "    return map2"
   ]
  },
  {
   "cell_type": "code",
   "execution_count": null,
   "metadata": {},
   "outputs": [],
   "source": [
    "daily_rep_us = fetchDatabase(\"daily_reports_us\", remove_cols = {})"
   ]
  },
  {
   "cell_type": "code",
   "execution_count": null,
   "metadata": {},
   "outputs": [],
   "source": [
    "daily_rep_us[\"Deaths_vs_Outcomes\"] = np.divide(daily_rep_us[\"Deaths\"], np.add(daily_rep_us[\"Deaths\"], daily_rep_us[\"Recovered\"]))\n",
    "daily_rep_us[\"Population (M)\"] = 0.1 * np.divide(daily_rep_us[\"People_Tested\"],daily_rep_us[\"Testing_Rate\"])\n",
    "daily_rep_us['Deaths per Thousand'] = 0.001 * np.divide(daily_rep_us[\"Deaths\"], daily_rep_us[\"Population (M)\"])"
   ]
  },
  {
   "cell_type": "code",
   "execution_count": null,
   "metadata": {},
   "outputs": [],
   "source": [
    "doMapPlot(daily_rep_us, \"Deaths per Thousand\")"
   ]
  },
  {
   "cell_type": "code",
   "execution_count": null,
   "metadata": {},
   "outputs": [],
   "source": []
  }
 ],
 "metadata": {
  "kernelspec": {
   "display_name": "Python 3",
   "language": "python",
   "name": "python3"
  },
  "language_info": {
   "codemirror_mode": {
    "name": "ipython",
    "version": 3
   },
   "file_extension": ".py",
   "mimetype": "text/x-python",
   "name": "python",
   "nbconvert_exporter": "python",
   "pygments_lexer": "ipython3",
   "version": "3.7.6"
  }
 },
 "nbformat": 4,
 "nbformat_minor": 2
}
