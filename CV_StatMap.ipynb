{
 "cells": [
  {
   "cell_type": "markdown",
   "metadata": {},
   "source": [
    "### Mapping Data\n",
    "\n",
    "The \"basemap\" library provides a not-so-simple facility for geospatial presentations. \n",
    "(Installing it is a bit of a chore, and did not go smoothly for me.  I don't have a recipe, other than \"Ingredients: 1 wall, 1 head -- Bang head against wall until tender.\")\n",
    "\n",
    "The code here data selected from a dataframe onto a map of the US.  (So it assumes that we are looking at the US database.)  \n",
    "\n",
    "\n",
    "If you are new to Jupyter, reach up above this box, select \"Kernel -> Restart & Run All\" to execute all the stuff below.  If you want to add new cells, go to the end of this notebook, hit the \"+\" button above, and then <SHIFT><RETURN> to evaluate what you typed. \n",
    "    \n",
    "There are good Jupyter tutorials on the web.  This isn't one of them. "
   ]
  },
  {
   "cell_type": "code",
   "execution_count": null,
   "metadata": {},
   "outputs": [],
   "source": [
    "import pandas as pd\n",
    "import numpy as np\n",
    "import matplotlib.pyplot as plt\n",
    "import LoadDatabase as ldb\n",
    "from mpl_toolkits.basemap import Basemap\n",
    "%matplotlib inline"
   ]
  },
  {
   "cell_type": "markdown",
   "metadata": {},
   "source": [
    "### Map Plotting\n",
    "The following function uses the Basemap package.  Crude, difficult to use, but better than some of the alternatives. "
   ]
  },
  {
   "cell_type": "code",
   "execution_count": null,
   "metadata": {},
   "outputs": [],
   "source": [
    "def doMapPlot(database, column_name):\n",
    "    fig = plt.figure(figsize=(15,15))\n",
    "    plt.title(column_name, fontsize=16)\n",
    "    map2 = Basemap(resolution='l',llcrnrlon=-119,llcrnrlat=22,urcrnrlon=-64,urcrnrlat=49, projection='lcc', lat_1=32, lat_2=45, lon_0=-95)\n",
    "    map2.drawstates()\n",
    "    map2.drawcountries(linewidth=1.5, color='black')\n",
    "    map2.drawcoastlines(linewidth=1.5, color='black')\n",
    "    lats,lons = (np.array(database[\"Lat\"]), np.array(database[\"Long_\"]))\n",
    "    stat = database[column_name]\n",
    "    scale = 400 / np.max(stat)\n",
    "\n",
    "    map2.scatter(lons, lats, s = scale * stat, latlon=True, marker='D', color='m', zorder=0)\n",
    "    plt.show()\n",
    "    return map2"
   ]
  },
  {
   "cell_type": "markdown",
   "metadata": {},
   "source": [
    "#### Load the database"
   ]
  },
  {
   "cell_type": "code",
   "execution_count": null,
   "metadata": {},
   "outputs": [],
   "source": [
    "daily_rep_us = ldb.loadDatabase(\"US\", remove_cols = {})"
   ]
  },
  {
   "cell_type": "markdown",
   "metadata": {},
   "source": [
    "#### Create some new columns"
   ]
  },
  {
   "cell_type": "code",
   "execution_count": null,
   "metadata": {},
   "outputs": [],
   "source": [
    "daily_rep_us[\"Deaths_vs_Outcomes\"] = np.divide(daily_rep_us[\"Deaths\"], np.add(daily_rep_us[\"Deaths\"], daily_rep_us[\"Recovered\"]))\n",
    "daily_rep_us[\"Population (M)\"] = 0.1 * np.divide(daily_rep_us[\"People_Tested\"],daily_rep_us[\"Testing_Rate\"])\n",
    "daily_rep_us['Deaths per Thousand'] = 0.001 * np.divide(daily_rep_us[\"Deaths\"], daily_rep_us[\"Population (M)\"])"
   ]
  },
  {
   "cell_type": "markdown",
   "metadata": {},
   "source": [
    "#### Pick a column and plot it on a US map"
   ]
  },
  {
   "cell_type": "code",
   "execution_count": null,
   "metadata": {},
   "outputs": [],
   "source": [
    "doMapPlot(daily_rep_us, \"Deaths per Thousand\")"
   ]
  },
  {
   "cell_type": "code",
   "execution_count": null,
   "metadata": {},
   "outputs": [],
   "source": [
    "open_lis = [\"Arizona\", \"Alabama\", \"South Carolina\"]\n",
    "daily_rep_us[daily_rep_us[\"Province_State\"].isin(open_lis)]"
   ]
  }
 ],
 "metadata": {
  "kernelspec": {
   "display_name": "Python 3",
   "language": "python",
   "name": "python3"
  },
  "language_info": {
   "codemirror_mode": {
    "name": "ipython",
    "version": 3
   },
   "file_extension": ".py",
   "mimetype": "text/x-python",
   "name": "python",
   "nbconvert_exporter": "python",
   "pygments_lexer": "ipython3",
   "version": "3.7.6"
  }
 },
 "nbformat": 4,
 "nbformat_minor": 2
}
