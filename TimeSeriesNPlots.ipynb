{
 "cells": [
  {
   "cell_type": "code",
   "execution_count": null,
   "metadata": {},
   "outputs": [],
   "source": [
    "import pandas as pd\n",
    "import numpy as np\n",
    "import matplotlib.pyplot as plt\n",
    "import matplotlib.dates as mdates\n",
    "import datetime as dt"
   ]
  },
  {
   "cell_type": "code",
   "execution_count": null,
   "metadata": {},
   "outputs": [],
   "source": [
    "ts = pd.read_csv(\"COVID-19/csse_covid_19_data/csse_covid_19_time_series/time_series_covid19_deaths_US.csv\")"
   ]
  },
  {
   "cell_type": "code",
   "execution_count": null,
   "metadata": {},
   "outputs": [],
   "source": [
    "ts.head()"
   ]
  },
  {
   "cell_type": "code",
   "execution_count": null,
   "metadata": {},
   "outputs": [],
   "source": [
    "ts.shape[0]"
   ]
  },
  {
   "cell_type": "code",
   "execution_count": null,
   "metadata": {},
   "outputs": [],
   "source": [
    "def getDistrict(fr, district, state):\n",
    "    new_fr = fr[(fr.Admin2 == district) & (fr.Province_State == state)]\n",
    "    return new_fr\n",
    "\n",
    "def plotDistrict(fr, district, state, base_title = 'Deaths-per-day per Million Population', normalize_per_million = True):\n",
    "    new_fr = getDistrict(fr, district, state)\n",
    "    # first date is right after Population\n",
    "    st_col = fr.columns.get_loc(\"Population\") + 1\n",
    "    # normalize? \n",
    "    population = 1\n",
    "    if normalize_per_million: \n",
    "        population = 1e-6 * new_fr.Population.sum() # sum turns it into a scalar\n",
    "    \n",
    "    nums = np.copy(new_fr.iloc[:,st_col:])\n",
    "    \n",
    "    # all the plot magic is from Stack Overflow and various other \n",
    "    # magic sources / deep pits of iniquity\n",
    "    xaxis_dates = list(new_fr)[st_col:]\n",
    "    x = [dt.datetime.strptime(d,'%m/%d/%y').date() for d in xaxis_dates]\n",
    "    plt.gca().xaxis.set_major_formatter(mdates.DateFormatter('%m/%d/%Y'))\n",
    "    plt.gca().xaxis.set_major_locator(mdates.MonthLocator())\n",
    "    plt.gca().xaxis.set_minor_locator(mdates.WeekdayLocator(byweekday=mdates.SU))\n",
    "    plt.title(\"%s : %s, %s\" % (base_title, district, state))\n",
    "    plt.gcf().autofmt_xdate()\n",
    "    plt.grid()\n",
    "    \n",
    "    plt.plot(x, nums[0] / population)\n"
   ]
  },
  {
   "cell_type": "code",
   "execution_count": null,
   "metadata": {},
   "outputs": [],
   "source": [
    "def makeMovingAverageDailyRate(fr):\n",
    "    # create a copy of the frame, as we're going to muss it up a bit\n",
    "    new_fr = fr.copy()\n",
    "    # The first date in our series is January 22, 2020.\n",
    "    # We'll start our timeline there.\n",
    "    st_col = ts.columns.get_loc(\"Population\") + 1\n",
    "\n",
    "    # strip out all the districts with a zero or NaN population\n",
    "    new_fr = new_fr[new_fr['Population'] > 0]\n",
    "    \n",
    "    # now calculate for each day, the increase in deaths relative \n",
    "    # to the number of deaths reported exactly one \n",
    "    # week before.  This amounts to an estimate, on that day of the \n",
    "    # week, of the weekly death rate.\n",
    "    # We don't actually want the day-to-day change, as there are substantial swings\n",
    "    # during the week due to the timing of reports, and the way deaths are recorded.\n",
    "    # (You aren't officially dead until after someone notices.)\n",
    "    new_fr.iloc[:,st_col+7:] = np.subtract(ts.iloc[:,st_col+7:], ts.iloc[:,st_col:-7])\n",
    "    \n",
    "    # now here is the tricky (and perhaps not-very-statistically-sound) part\n",
    "    # calculate the rolling average (over the preceeding 7 days) of the \"weekly\" death rate\n",
    "    # and divide by 7 to get an estimate of the daily death rate... ???\n",
    "    # I got a \"C\" in statistics, and this might be a hint as to why...\n",
    "    \n",
    "    # If you are looking for a reason to feel good about this: look at it as a trailing estimate\n",
    "    # of the daily death rate. \n",
    "    new_fr.iloc[:,st_col+7:] = np.divide(new_fr.iloc[:, st_col:].rolling(window=7,axis=1).sum().iloc[:,st_col:], 7)\n",
    "    return new_fr"
   ]
  },
  {
   "cell_type": "markdown",
   "metadata": {},
   "source": [
    "### Calculate the 7 day moving average of reported deaths-per-day\n",
    "\n",
    "Deaths per day is calculated by looking at the moving average of deaths\n",
    "over a 7 day period.  For each day 'x':\n",
    "```\n",
    "deaths_over_previous_week[x] = cumulative_deaths_to_date[x] - cumulative_deaths_to_date[x - 7]\n",
    "deaths_per_day[x] = average(deaths_over_previous_week[x-7...x])\n",
    "```\n",
    "Graphing deaths per day as \n",
    "```\n",
    "deaths_per_day[x] = cumulative_deaths_to_date[x] - cumulative_deaths_to_date[x-1]\n",
    "```\n",
    "leads to a graph with clear periodicity, as weekend deaths may be delayed until Monday, and there is\n",
    "(perhaps no more than anectodal) evidence that they dying sometimes hang on until a particular day of\n",
    "the week, day of the month, or holiday.  Trailing difference over a specified interval (say quarter to \n",
    "corresponding quarter in previous year) is often used to comprehend (and *ignore*) seasonal variations\n",
    "in sales or revenue, for instance.  That seems like a good idea here.  \n",
    "\n",
    "Think of it as a primitive low-pass FIR filter, if you like to think that way."
   ]
  },
  {
   "cell_type": "code",
   "execution_count": null,
   "metadata": {},
   "outputs": [],
   "source": [
    "delta_series = makeMovingAverageDailyRate(ts[ts.iloc[:,-1] > 25])"
   ]
  },
  {
   "cell_type": "markdown",
   "metadata": {},
   "source": [
    "### Remove statistically small reports\n",
    "We remove all districts that have reported fewer than 25 deaths by the end of the reporting period. \n",
    "These tend to have odd patterns that are made more evident by tiny numbers, and perhaps more probable by limited diagnostic and pathology resources. \n",
    "We started with 3261 entries (as of 5/11/20), and finish with "
   ]
  },
  {
   "cell_type": "code",
   "execution_count": null,
   "metadata": {},
   "outputs": [],
   "source": [
    "delta_series.shape[0]"
   ]
  },
  {
   "cell_type": "markdown",
   "metadata": {},
   "source": [
    "Thats 272 entries. "
   ]
  },
  {
   "cell_type": "markdown",
   "metadata": {},
   "source": [
    "### This is an example of a district that has been discarded from the dataset:\n",
    "\n",
    "Some districts witness a Lazarus effect. (More likely a death is re-classified.)"
   ]
  },
  {
   "cell_type": "code",
   "execution_count": null,
   "metadata": {},
   "outputs": [],
   "source": [
    "plotDistrict(ts, 'Buncombe', 'North Carolina', \"Total Deaths to Date\", False)"
   ]
  },
  {
   "cell_type": "markdown",
   "metadata": {},
   "source": [
    "### This is the deaths-to-date data for Baltimore County, Maryland (including the city of Baltimore)"
   ]
  },
  {
   "cell_type": "code",
   "execution_count": null,
   "metadata": {},
   "outputs": [],
   "source": [
    "getDistrict(ts, \"Baltimore\", \"Maryland\")"
   ]
  },
  {
   "cell_type": "code",
   "execution_count": null,
   "metadata": {},
   "outputs": [],
   "source": [
    "fig = plt.figure(figsize=[15,10])\n",
    "plotDistrict(delta_series, 'Baltimore', 'Maryland')"
   ]
  },
  {
   "cell_type": "markdown",
   "metadata": {},
   "source": [
    "## New York County (Manhattan)\n",
    "\n",
    "The death rate in the city of New York has been staggering. However, the number of new deaths reported per day has been declining for several weeks.  At this point (May 12, 2020) the death rate is 200 per million per day. \n",
    "\n",
    "The third plot puts this in perspective, by not normalizing to the size of the population. "
   ]
  },
  {
   "cell_type": "code",
   "execution_count": null,
   "metadata": {},
   "outputs": [],
   "source": [
    "plotDistrict(ts, 'New York', 'New York', \"Total Deaths Reported to Date\", False)\n",
    "getDistrict(ts, 'New York', 'New York')"
   ]
  },
  {
   "cell_type": "code",
   "execution_count": null,
   "metadata": {},
   "outputs": [],
   "source": [
    "plotDistrict(delta_series, 'New York', 'New York')"
   ]
  },
  {
   "cell_type": "code",
   "execution_count": null,
   "metadata": {},
   "outputs": [],
   "source": [
    "# totals deaths reported per day, without normalization to population\n",
    "plotDistrict(delta_series, 'New York', 'New York', \"Deaths-per-day\", False)"
   ]
  },
  {
   "cell_type": "markdown",
   "metadata": {},
   "source": [
    "## New York -- Can that possibly be true? \n",
    "\n",
    "Let's look at the last week or so of data from the \"reported deaths\" timeseries"
   ]
  },
  {
   "cell_type": "code",
   "execution_count": null,
   "metadata": {},
   "outputs": [],
   "source": [
    "# take the last 14 days of \"total deaths to date\" reports \n",
    "ny = ts[ts.Admin2 == 'New York'].iloc[:,-14:]\n",
    "ny"
   ]
  },
  {
   "cell_type": "code",
   "execution_count": null,
   "metadata": {},
   "outputs": [],
   "source": [
    "# calculate the mean difference in the 7-day moving averages of \n",
    "# new deaths over the previous week.  (ny.iloc[:, someday] - ny.iloc[:, someday - 7] )\n",
    "# where the first ':' means \"all rows\" and the stuff after the ',' means \"these columns by column number\"\n",
    "(ny.iloc[:,-7:].sum(axis=1) - ny.iloc[:,-14:-7].sum(axis=1)) / 7"
   ]
  },
  {
   "cell_type": "markdown",
   "metadata": {},
   "source": [
    "### So the numbers appear to be smashed together correctly. \n",
    "\n",
    "### But these numbers smell funny\n",
    "\n",
    "New York city comprises five boroughs: Manhattan, The Bronx, Brooklyn, Queens, and Staten Island. \n",
    "These correspond to the counties of New York, Bronx, Kinks, Queens, and Richmond. \n",
    "\n",
    "Of these, only New York county (by its FIPS code) reports data.  I believe that this may be due to a geo-informatics issue that starts with the lat/lon of a reporting district and labels it with the enclosing governmental blob, preference being give to the county level. \n",
    "\n",
    "But this doesn't account for a discrepancy between the reported total deaths for \"New York\" at\n",
    "20K on 5/11/20 in this dataset, and the NYC reports of about 15K.  A CBS news story (https://www.cbsnews.com/news/coronavirus-nyc-deaths-higher-offical-count-cdc-study/) describes a possible cause. The CDC and NYC may be using different criteria to classify deaths.  The CDC uses \"excess deaths\" over the expected rate as part of their classification, in combination with death certificate data.  NYC counts deaths if confirmed by lab tests.  As of 5/10 NYC had recorded 5200 deaths that were not confirmed by lab test, but that had COVID-19 listed on the death certificate.  \n",
    "\n",
    "The numbers in this dataset are derived from CDC statistics. "
   ]
  },
  {
   "cell_type": "code",
   "execution_count": null,
   "metadata": {},
   "outputs": [],
   "source": []
  }
 ],
 "metadata": {
  "kernelspec": {
   "display_name": "Python 3",
   "language": "python",
   "name": "python3"
  },
  "language_info": {
   "codemirror_mode": {
    "name": "ipython",
    "version": 3
   },
   "file_extension": ".py",
   "mimetype": "text/x-python",
   "name": "python",
   "nbconvert_exporter": "python",
   "pygments_lexer": "ipython3",
   "version": "3.7.6"
  }
 },
 "nbformat": 4,
 "nbformat_minor": 2
}
