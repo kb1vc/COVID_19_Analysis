{
 "cells": [
  {
   "cell_type": "code",
   "execution_count": null,
   "metadata": {},
   "outputs": [],
   "source": [
    "import pandas as pd\n",
    "import numpy as np\n",
    "import matplotlib.pyplot as plt\n",
    "import matplotlib.dates as mdates\n",
    "import datetime as dt"
   ]
  },
  {
   "cell_type": "code",
   "execution_count": null,
   "metadata": {},
   "outputs": [],
   "source": [
    "ts = pd.read_csv(\"COVID-19/csse_covid_19_data/csse_covid_19_time_series/time_series_covid19_deaths_US.csv\")"
   ]
  },
  {
   "cell_type": "code",
   "execution_count": null,
   "metadata": {},
   "outputs": [],
   "source": [
    "ts.head()"
   ]
  },
  {
   "cell_type": "code",
   "execution_count": null,
   "metadata": {},
   "outputs": [],
   "source": [
    "def makeMovingAverageDailyRate(fr):\n",
    "    # create a copy of the frame, as we're going to muss it up a bit\n",
    "    new_fr = fr.copy()\n",
    "    # The first date in our series is January 22, 2020.\n",
    "    # We'll start our timeline there.\n",
    "    st_col = ts.columns.get_loc(\"Population\") + 1\n",
    "\n",
    "    # strip out all the districts with a zero or NaN population\n",
    "    new_fr = new_fr[new_fr['Population'] > 0]\n",
    "    \n",
    "    # now calculate for each day, the increase in deaths relative \n",
    "    # to the number of deaths reported exactly one \n",
    "    # week before.  This amounts to an estimate, on that day of the \n",
    "    # week, of the weekly death rate.\n",
    "    # We don't actually want the day-to-day change, as there are substantial swings\n",
    "    # during the week due to the timing of reports, and the way deaths are recorded.\n",
    "    # (You aren't officially dead until after someone notices.)\n",
    "    new_fr.iloc[:,st_col+7:] = np.subtract(ts.iloc[:,st_col+7:], ts.iloc[:,st_col:-7])\n",
    "    \n",
    "    # now here is the tricky (and perhaps not-very-statistically-sound) part\n",
    "    # calculate the rolling average (over the preceeding 7 days) of the \"weekly\" death rate\n",
    "    # and divide by 7 to get an estimate of the daily death rate... ???\n",
    "    # I got a \"C\" in statistics, and this might be a hint as to why...\n",
    "    \n",
    "    # If you are looking for a reason to feel good about this: look at it as a trailing estimate\n",
    "    # of the daily death rate. \n",
    "    new_fr.iloc[:,st_col+7:] = np.divide(new_fr.iloc[:, st_col:].rolling(window=7,axis=1).sum().iloc[:,st_col:], 7)\n",
    "    return new_fr"
   ]
  },
  {
   "cell_type": "markdown",
   "metadata": {},
   "source": [
    "### Let's find the 7 day moving average death rate\n",
    "\n",
    "But we should only look at reporters with more than 25 or so reported deaths by the end of the period.\n",
    "\n",
    "Here's why:"
   ]
  },
  {
   "cell_type": "code",
   "execution_count": null,
   "metadata": {},
   "outputs": [],
   "source": [
    "plotDistrict(ts, 'Buncombe', 'North Carolina', \"Total Deaths to Date\", False)"
   ]
  },
  {
   "cell_type": "code",
   "execution_count": null,
   "metadata": {},
   "outputs": [],
   "source": [
    "delta_series = makeMovingAverageDailyRate(ts[ts.iloc[:,-1] > 25])\n",
    "delta_series.shape"
   ]
  },
  {
   "cell_type": "code",
   "execution_count": null,
   "metadata": {},
   "outputs": [],
   "source": [
    "delta_series.head()"
   ]
  },
  {
   "cell_type": "code",
   "execution_count": null,
   "metadata": {},
   "outputs": [],
   "source": [
    "def getDistrict(fr, district, state):\n",
    "    new_fr = fr[(fr.Admin2 == district) & (fr.Province_State == state)]\n",
    "    return new_fr\n",
    "\n",
    "def plotDistrict(fr, district, state, base_title = 'Deaths-per-day per Million Population', normalize_per_million = True):\n",
    "    new_fr = getDistrict(fr, district, state)\n",
    "    # first date is right after Population\n",
    "    st_col = fr.columns.get_loc(\"Population\") + 1\n",
    "    # normalize? \n",
    "    population = 1\n",
    "    if normalize_per_million: \n",
    "        population = 1e-6 * new_fr.Population.sum() # sum turns it into a scalar\n",
    "    \n",
    "    nums = np.copy(new_fr.iloc[:,st_col:])\n",
    "    \n",
    "    # all the plot magic is from Stack Overflow and various other \n",
    "    # magic sources / deep pits of iniquity\n",
    "    xaxis_dates = list(new_fr)[st_col:]\n",
    "    x = [dt.datetime.strptime(d,'%m/%d/%y').date() for d in xaxis_dates]\n",
    "    plt.gca().xaxis.set_major_formatter(mdates.DateFormatter('%m/%d/%Y'))\n",
    "    plt.gca().xaxis.set_major_locator(mdates.MonthLocator())\n",
    "    plt.gca().xaxis.set_minor_locator(mdates.WeekdayLocator(byweekday=mdates.SU))\n",
    "    plt.title(\"%s : %s, %s\" % (base_title, district, state))\n",
    "    plt.gcf().autofmt_xdate()\n",
    "    plt.grid()\n",
    "    \n",
    "    plt.plot(x, nums[0] / population)\n"
   ]
  },
  {
   "cell_type": "code",
   "execution_count": null,
   "metadata": {},
   "outputs": [],
   "source": [
    "mdates.WeekdayLocator.__doc__"
   ]
  },
  {
   "cell_type": "code",
   "execution_count": null,
   "metadata": {},
   "outputs": [],
   "source": [
    "fig = plt.figure(figsize=[15,10])\n",
    "plotDistrict(delta_series, 'Baltimore', 'Maryland')"
   ]
  },
  {
   "cell_type": "code",
   "execution_count": null,
   "metadata": {},
   "outputs": [],
   "source": [
    "plotDistrict(delta_series, 'Alameda', 'California')\n",
    "getDistrict(delta_series, 'Alameda', 'California')"
   ]
  },
  {
   "cell_type": "code",
   "execution_count": null,
   "metadata": {},
   "outputs": [],
   "source": [
    "plotDistrict(ts, 'Alameda', 'California', 'Total Reported Deaths', False)"
   ]
  },
  {
   "cell_type": "markdown",
   "metadata": {},
   "source": [
    "## New York\n",
    "\n",
    "The death rate in the city of New York has been staggering. However, the number of new deaths reported per day has been declining for several weeks.  At this point (May 12, 2020) the death rate is 200 per million per day. \n",
    "\n",
    "The third plot puts this in perspective, by not normalizing to the size of the population. "
   ]
  },
  {
   "cell_type": "code",
   "execution_count": null,
   "metadata": {},
   "outputs": [],
   "source": [
    "plotDistrict(ts, 'New York', 'New York', \"Total Deaths Reported\", False)"
   ]
  },
  {
   "cell_type": "code",
   "execution_count": null,
   "metadata": {},
   "outputs": [],
   "source": [
    "plotDistrict(delta_series, 'New York', 'New York')"
   ]
  },
  {
   "cell_type": "code",
   "execution_count": null,
   "metadata": {},
   "outputs": [],
   "source": [
    "plotDistrict(delta_series, 'New York', 'New York', \"Deaths reported per day\", False)"
   ]
  },
  {
   "cell_type": "markdown",
   "metadata": {},
   "source": [
    "## New York -- Can that possibly be true? \n",
    "\n",
    "Let's look at the last week or so of data from the \"reported deaths\" timeseries"
   ]
  },
  {
   "cell_type": "code",
   "execution_count": null,
   "metadata": {},
   "outputs": [],
   "source": [
    "ny = ts[ts.Admin2 == 'New York'].iloc[:,-14:]\n",
    "ny"
   ]
  },
  {
   "cell_type": "code",
   "execution_count": null,
   "metadata": {},
   "outputs": [],
   "source": [
    "(ny.iloc[:,-7:].sum(axis=1) - ny.iloc[:,-14:-7].sum(axis=1)) / 7"
   ]
  },
  {
   "cell_type": "code",
   "execution_count": null,
   "metadata": {},
   "outputs": [],
   "source": []
  }
 ],
 "metadata": {
  "kernelspec": {
   "display_name": "Python 3",
   "language": "python",
   "name": "python3"
  },
  "language_info": {
   "codemirror_mode": {
    "name": "ipython",
    "version": 3
   },
   "file_extension": ".py",
   "mimetype": "text/x-python",
   "name": "python",
   "nbconvert_exporter": "python",
   "pygments_lexer": "ipython3",
   "version": "3.7.6"
  }
 },
 "nbformat": 4,
 "nbformat_minor": 2
}
